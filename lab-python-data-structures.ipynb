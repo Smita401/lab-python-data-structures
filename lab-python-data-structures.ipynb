{
 "cells": [
  {
   "cell_type": "markdown",
   "id": "6e8c3c80",
   "metadata": {},
   "source": [
    "## Exercise: Managing Customer Orders\n",
    "\n",
    "As part of a business venture, you are starting an online store that sells various products. To ensure smooth operations, you need to develop a program that manages customer orders and inventory.\n",
    "\n",
    "Follow the steps below to complete the exercise:\n",
    "\n",
    "1. Define a list called `products` that contains the following items: \"t-shirt\", \"mug\", \"hat\", \"book\", \"keychain\".\n",
    "\n",
    "2. Create an empty dictionary called `inventory`.\n",
    "\n",
    "3. Ask the user to input the quantity of each product available in the inventory. Use the product names from the `products` list as keys in the `inventory` dictionary and assign the respective quantities as values.\n",
    "\n",
    "4. Create an empty set called `customer_orders`.\n",
    "\n",
    "5. Ask the user to input the name of three products that a customer wants to order (from those in the products list, meaning three products out of \"t-shirt\", \"mug\", \"hat\", \"book\" or \"keychain\". Add each product name to the `customer_orders` set.\n",
    "\n",
    "6. Print the products in the `customer_orders` set.\n",
    "\n",
    "7. Calculate the following order statistics:\n",
    "   - Total Products Ordered: The total number of products in the `customer_orders` set.\n",
    "   - Percentage of Products Ordered: The percentage of products ordered compared to the total available products.\n",
    "   \n",
    "   Store these statistics in a tuple called `order_status`.\n",
    "\n",
    "8. Print the order statistics using the following format:\n",
    "   ```\n",
    "   Order Statistics:\n",
    "   Total Products Ordered: <total_products_ordered>\n",
    "   Percentage of Products Ordered: <percentage_ordered>% \n",
    "   ```\n",
    "\n",
    "9. Update the inventory by subtracting 1 from the quantity of each product. Modify the `inventory` dictionary accordingly.\n",
    "\n",
    "10. Print the updated inventory, displaying the quantity of each product on separate lines.\n",
    "\n",
    "Solve the exercise by implementing the steps using the Python concepts of lists, dictionaries, sets, and basic input/output operations. "
   ]
  },
  {
   "cell_type": "code",
   "execution_count": 33,
   "id": "be1976ad",
   "metadata": {},
   "outputs": [],
   "source": [
    "# Define a list called products that contains the following items: \"t-shirt\", \"mug\", \"hat\", \"book\", \"keychain\".\n",
    "products = [\"t-shirt\", \"mug\", \"hat\", \"book\", \"keychain\"]"
   ]
  },
  {
   "cell_type": "code",
   "execution_count": 5,
   "id": "6dd8ad9a",
   "metadata": {},
   "outputs": [],
   "source": [
    "# Create an empty dictionary called inventory\n",
    "inventory = {}"
   ]
  },
  {
   "cell_type": "code",
   "execution_count": 34,
   "id": "bc775af2",
   "metadata": {},
   "outputs": [
    {
     "name": "stdout",
     "output_type": "stream",
     "text": [
      "Quantity of t-shirts: 25\n",
      "Quantity of mugs: 30\n",
      "Quantity of hats: 35\n",
      "Quantity of books: 40\n",
      "Quantity of keychains: 45\n"
     ]
    }
   ],
   "source": [
    "# Ask the user to input the quantity of each product available in the inventory. Use the product names from the products list as keys in the inventory dictionary and assign the respective quantities as values.\n",
    "tshirt_qty = int(input(\"Quantity of t-shirts: \"))\n",
    "mug_qty = int(input(\"Quantity of mugs: \"))\n",
    "hat_qty = int(input(\"Quantity of hats: \"))\n",
    "book_qty = int(input(\"Quantity of books: \"))\n",
    "keychain_qty = int(input(\"Quantity of keychains: \"))"
   ]
  },
  {
   "cell_type": "code",
   "execution_count": 35,
   "id": "b7e07e6f",
   "metadata": {},
   "outputs": [
    {
     "data": {
      "text/plain": [
       "{'t-shirt': 25, 'mug': 30, 'hat': 35, 'book': 40, 'keychain': 45}"
      ]
     },
     "execution_count": 35,
     "metadata": {},
     "output_type": "execute_result"
    }
   ],
   "source": [
    "inventory = {'t-shirt': 25, 'mug': 30, 'hat': 35, 'book': 40, 'keychain': 45}\n",
    "inventory"
   ]
  },
  {
   "cell_type": "code",
   "execution_count": 36,
   "id": "f921d048",
   "metadata": {},
   "outputs": [],
   "source": [
    "# Create an empty set called customer_orders\n",
    "customer_orders = set()"
   ]
  },
  {
   "cell_type": "code",
   "execution_count": 37,
   "id": "a8e84300",
   "metadata": {},
   "outputs": [
    {
     "data": {
      "text/plain": [
       "set"
      ]
     },
     "execution_count": 37,
     "metadata": {},
     "output_type": "execute_result"
    }
   ],
   "source": [
    "type(customer_orders)"
   ]
  },
  {
   "cell_type": "code",
   "execution_count": 38,
   "id": "06caf277",
   "metadata": {},
   "outputs": [
    {
     "name": "stdout",
     "output_type": "stream",
     "text": [
      "Name one product the customer wants to order from the products list: mug\n",
      "Name a second product the customer wants to order from the products list: hat\n",
      "Name a third product the customer wants to order from the products list: book\n"
     ]
    }
   ],
   "source": [
    "# Ask the user to input the name of three products that a customer wants to order (from those in the products list, meaning three products out of \"t-shirt\", \"mug\", \"hat\", \"book\" or \"keychain\". Add each product name to the customer_orders set.\n",
    "product1 = str(input(\"Name one product the customer wants to order from the products list: \"))\n",
    "product2 = str(input(\"Name a second product the customer wants to order from the products list: \"))\n",
    "product3 = str(input(\"Name a third product the customer wants to order from the products list: \"))"
   ]
  },
  {
   "cell_type": "code",
   "execution_count": 40,
   "id": "20d2ed70",
   "metadata": {},
   "outputs": [
    {
     "name": "stdout",
     "output_type": "stream",
     "text": [
      "{'mug'}\n"
     ]
    }
   ],
   "source": [
    "# Print the products in the customer_orders set.\n",
    "customer_orders.add('mug')\n",
    "print(customer_orders)"
   ]
  },
  {
   "cell_type": "code",
   "execution_count": 41,
   "id": "8c62254f",
   "metadata": {},
   "outputs": [
    {
     "name": "stdout",
     "output_type": "stream",
     "text": [
      "{'hat', 'mug'}\n"
     ]
    }
   ],
   "source": [
    "customer_orders.add('hat')\n",
    "print(customer_orders)"
   ]
  },
  {
   "cell_type": "code",
   "execution_count": 42,
   "id": "d5af5a8e",
   "metadata": {},
   "outputs": [
    {
     "name": "stdout",
     "output_type": "stream",
     "text": [
      "{'hat', 'mug', 'book'}\n"
     ]
    }
   ],
   "source": [
    "customer_orders.add('book')\n",
    "print(customer_orders)"
   ]
  },
  {
   "cell_type": "code",
   "execution_count": 43,
   "id": "7260ef19",
   "metadata": {},
   "outputs": [],
   "source": [
    "# Calculate the following order statistics:\n",
    "# Total Products Ordered: The total number of products in the customer_orders set.\n",
    "# Percentage of Products Ordered: The percentage of products ordered compared to the total available products.\n",
    "\n",
    "total_products_ordered = len(customer_orders)"
   ]
  },
  {
   "cell_type": "code",
   "execution_count": 44,
   "id": "40cf006e",
   "metadata": {},
   "outputs": [
    {
     "name": "stdout",
     "output_type": "stream",
     "text": [
      "3\n"
     ]
    }
   ],
   "source": [
    "print(total_products_ordered)"
   ]
  },
  {
   "cell_type": "code",
   "execution_count": 45,
   "id": "4d9a90c4",
   "metadata": {},
   "outputs": [
    {
     "name": "stdout",
     "output_type": "stream",
     "text": [
      "Total Products Ordered:  3\n"
     ]
    }
   ],
   "source": [
    "print(\"Total Products Ordered: \", total_products_ordered)"
   ]
  },
  {
   "cell_type": "code",
   "execution_count": 46,
   "id": "1f7960fe",
   "metadata": {},
   "outputs": [],
   "source": [
    "total = 5\n",
    "percentage = ((5 - 3) / 5)*100"
   ]
  },
  {
   "cell_type": "code",
   "execution_count": 47,
   "id": "857b12ea",
   "metadata": {},
   "outputs": [
    {
     "name": "stdout",
     "output_type": "stream",
     "text": [
      "40.0\n"
     ]
    }
   ],
   "source": [
    "print(percentage)"
   ]
  },
  {
   "cell_type": "code",
   "execution_count": 48,
   "id": "5bf33e21",
   "metadata": {},
   "outputs": [
    {
     "name": "stdout",
     "output_type": "stream",
     "text": [
      "Percentage of Products Ordered:  40.0 %\n"
     ]
    }
   ],
   "source": [
    "print(\"Percentage of Products Ordered: \", percentage, \"%\")"
   ]
  },
  {
   "cell_type": "code",
   "execution_count": 49,
   "id": "a40b4bbf",
   "metadata": {},
   "outputs": [
    {
     "name": "stdout",
     "output_type": "stream",
     "text": [
      "(3, 40.0)\n"
     ]
    }
   ],
   "source": [
    "# Store these statistics in a tuple called order_status\n",
    "order_status = (total_products_ordered, percentage)\n",
    "print(order_status)"
   ]
  },
  {
   "cell_type": "code",
   "execution_count": 50,
   "id": "0f8af820",
   "metadata": {},
   "outputs": [
    {
     "data": {
      "text/plain": [
       "tuple"
      ]
     },
     "execution_count": 50,
     "metadata": {},
     "output_type": "execute_result"
    }
   ],
   "source": [
    "type(order_status)"
   ]
  },
  {
   "cell_type": "code",
   "execution_count": 51,
   "id": "4bdd7d72",
   "metadata": {},
   "outputs": [
    {
     "name": "stdout",
     "output_type": "stream",
     "text": [
      "Order Statistics:\n",
      "Total Products Ordered: 3 \n",
      "Percentage of Products Ordered: 40.0 %\n"
     ]
    }
   ],
   "source": [
    "# Print the order statistics using the following format:\n",
    "print(f\"Order Statistics:\\nTotal Products Ordered: {total_products_ordered} \\nPercentage of Products Ordered: {percentage} %\")"
   ]
  },
  {
   "cell_type": "code",
   "execution_count": 52,
   "id": "40463730",
   "metadata": {},
   "outputs": [
    {
     "data": {
      "text/plain": [
       "{'t-shirt': 24, 'mug': 29, 'hat': 34, 'book': 39, 'keychain': 44}"
      ]
     },
     "execution_count": 52,
     "metadata": {},
     "output_type": "execute_result"
    }
   ],
   "source": [
    "# Update the inventory by subtracting 1 from the quantity of each product. Modify the inventory dictionary accordingly\n",
    "inventory = {'t-shirt': 24, 'mug': 29, 'hat': 34, 'book': 39, 'keychain': 44}\n",
    "inventory"
   ]
  },
  {
   "cell_type": "code",
   "execution_count": 53,
   "id": "d98f4817",
   "metadata": {},
   "outputs": [
    {
     "name": "stdout",
     "output_type": "stream",
     "text": [
      "t-shirt, 24\n",
      "mug, 29\n",
      "hat, 34\n",
      "book, 39\n",
      "keychain, 44\n"
     ]
    }
   ],
   "source": [
    "# Print the updated inventory, displaying the quantity of each product on separate lines\n",
    "print(f\"{list(inventory.keys())[0]}, {list(inventory.values())[0]}\")\n",
    "print(f\"{list(inventory.keys())[1]}, {list(inventory.values())[1]}\")\n",
    "print(f\"{list(inventory.keys())[2]}, {list(inventory.values())[2]}\")\n",
    "print(f\"{list(inventory.keys())[3]}, {list(inventory.values())[3]}\")\n",
    "print(f\"{list(inventory.keys())[4]}, {list(inventory.values())[4]}\")"
   ]
  },
  {
   "cell_type": "code",
   "execution_count": 54,
   "id": "4f5e23c1",
   "metadata": {
    "scrolled": true
   },
   "outputs": [
    {
     "name": "stdout",
     "output_type": "stream",
     "text": [
      "t-shirt\n",
      "24\n",
      "mug\n",
      "29\n",
      "hat\n",
      "34\n",
      "book\n",
      "39\n",
      "keychain\n",
      "44\n"
     ]
    }
   ],
   "source": [
    "# alternative using loops: print the updated inventory, displaying the quantity of each product on separate lines\n",
    "for keys, values in inventory.items():\n",
    "    print(keys)\n",
    "    print(values)"
   ]
  }
 ],
 "metadata": {
  "kernelspec": {
   "display_name": "Python 3 (ipykernel)",
   "language": "python",
   "name": "python3"
  },
  "language_info": {
   "codemirror_mode": {
    "name": "ipython",
    "version": 3
   },
   "file_extension": ".py",
   "mimetype": "text/x-python",
   "name": "python",
   "nbconvert_exporter": "python",
   "pygments_lexer": "ipython3",
   "version": "3.11.5"
  }
 },
 "nbformat": 4,
 "nbformat_minor": 5
}
